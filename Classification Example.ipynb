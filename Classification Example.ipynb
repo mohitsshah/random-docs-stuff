{
 "cells": [
  {
   "cell_type": "code",
   "execution_count": 1,
   "metadata": {},
   "outputs": [],
   "source": [
    "from modules.api import API\n",
    "service = API('localhost', '12345')"
   ]
  },
  {
   "cell_type": "code",
   "execution_count": 12,
   "metadata": {},
   "outputs": [
    {
     "name": "stdout",
     "output_type": "stream",
     "text": [
      "Making request to:  http://localhost:12345/models\n",
      "Status: 500\n",
      "Message: UNIQUE constraint failed: documents.name\n"
     ]
    }
   ],
   "source": [
    "model_name = \"SVM_2\"\n",
    "model_params = {\n",
    "    \"dataset\": {\n",
    "        \"directory\": \".\",\n",
    "        \"split\": 0.2,\n",
    "        \"tags\": None\n",
    "    },\n",
    "    \"input\": {\n",
    "        \"method\": \"tfidf\",\n",
    "        \"min_n\": 1,\n",
    "        \"max_n\": 2,\n",
    "        \"vocab_size\": 100\n",
    "    },\n",
    "    \"classifier\": {\n",
    "        \"method\": \"svm\"\n",
    "    }\n",
    "}\n",
    "status, data = service.create_model(model_name, model_params)\n",
    "print (\"Status:\", status)\n",
    "print (\"Message:\", data[\"message\"])"
   ]
  },
  {
   "cell_type": "code",
   "execution_count": 13,
   "metadata": {},
   "outputs": [
    {
     "name": "stdout",
     "output_type": "stream",
     "text": [
      "Making request to:  http://localhost:12345/train\n",
      "Status: 200\n",
      "Message: Submitted model SVM_2 for training.\n"
     ]
    }
   ],
   "source": [
    "status, data = service.train_model(model_name)\n",
    "print (\"Status:\", status)\n",
    "print (\"Message:\", data[\"message\"])"
   ]
  },
  {
   "cell_type": "code",
   "execution_count": 15,
   "metadata": {},
   "outputs": [
    {
     "name": "stdout",
     "output_type": "stream",
     "text": [
      "Making request to:  http://localhost:12345/train_status\n",
      "Status: 200\n",
      "Message: Training SVM_2 complete.\n"
     ]
    }
   ],
   "source": [
    "status, data = service.train_status(model_name)\n",
    "print (\"Status:\", status)\n",
    "print (\"Message:\", data[\"message\"])"
   ]
  },
  {
   "cell_type": "code",
   "execution_count": null,
   "metadata": {},
   "outputs": [],
   "source": []
  }
 ],
 "metadata": {
  "kernelspec": {
   "display_name": "Python 3",
   "language": "python",
   "name": "python3"
  },
  "language_info": {
   "codemirror_mode": {
    "name": "ipython",
    "version": 3
   },
   "file_extension": ".py",
   "mimetype": "text/x-python",
   "name": "python",
   "nbconvert_exporter": "python",
   "pygments_lexer": "ipython3",
   "version": "3.6.4"
  }
 },
 "nbformat": 4,
 "nbformat_minor": 2
}
